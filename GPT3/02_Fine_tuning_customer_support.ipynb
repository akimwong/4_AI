{
 "cells": [
  {
   "cell_type": "markdown",
   "metadata": {},
   "source": [
    "# fine_tunning_customer_support_1\n",
    "Test: https://norahsakal.com/blog/fine-tune-gpt3-model"
   ]
  },
  {
   "cell_type": "code",
   "execution_count": 5,
   "metadata": {},
   "outputs": [],
   "source": [
    "import pandas as pd\n",
    "import json\n",
    "import openai\n",
    "from getpass import getpass"
   ]
  },
  {
   "cell_type": "markdown",
   "metadata": {},
   "source": [
    "### Paso 1: Carga de api_key"
   ]
  },
  {
   "cell_type": "code",
   "execution_count": 6,
   "metadata": {},
   "outputs": [
    {
     "name": "stdout",
     "output_type": "stream",
     "text": [
      "Introduzca la contraseña: ········\n"
     ]
    }
   ],
   "source": [
    "# Solicitar la contraseña al usuario\n",
    "openai.api_key = getpass(\"Introduzca la contraseña: \")              # <- NECESARIO\n",
    "#api_key =\"xxxxxxxxxxxxx\"\n",
    "#openai.api_key = api_key"
   ]
  },
  {
   "cell_type": "markdown",
   "metadata": {},
   "source": [
    "### Paso 2: Carga de fichero (prompts / completions) \n",
    "Formato (' ->', ' ', '.\\n') manual (puede omitirse éste paso)"
   ]
  },
  {
   "cell_type": "code",
   "execution_count": 7,
   "metadata": {},
   "outputs": [
    {
     "data": {
      "text/html": [
       "<div>\n",
       "<style scoped>\n",
       "    .dataframe tbody tr th:only-of-type {\n",
       "        vertical-align: middle;\n",
       "    }\n",
       "\n",
       "    .dataframe tbody tr th {\n",
       "        vertical-align: top;\n",
       "    }\n",
       "\n",
       "    .dataframe thead th {\n",
       "        text-align: right;\n",
       "    }\n",
       "</style>\n",
       "<table border=\"1\" class=\"dataframe\">\n",
       "  <thead>\n",
       "    <tr style=\"text-align: right;\">\n",
       "      <th></th>\n",
       "      <th>prompt</th>\n",
       "      <th>completion</th>\n",
       "    </tr>\n",
       "  </thead>\n",
       "  <tbody>\n",
       "    <tr>\n",
       "      <th>0</th>\n",
       "      <td>Where is the billing -&gt;</td>\n",
       "      <td>You find the billing in the left-hand side me...</td>\n",
       "    </tr>\n",
       "    <tr>\n",
       "      <th>1</th>\n",
       "      <td>How do I upgrade my account -&gt;</td>\n",
       "      <td>Visit you user settings in the left-hand side...</td>\n",
       "    </tr>\n",
       "  </tbody>\n",
       "</table>\n",
       "</div>"
      ],
      "text/plain": [
       "                           prompt  \\\n",
       "0         Where is the billing ->   \n",
       "1  How do I upgrade my account ->   \n",
       "\n",
       "                                          completion  \n",
       "0   You find the billing in the left-hand side me...  \n",
       "1   Visit you user settings in the left-hand side...  "
      ]
     },
     "execution_count": 7,
     "metadata": {},
     "output_type": "execute_result"
    }
   ],
   "source": [
    "df = pd.read_excel('test_fine_tunning_2.xlsx')                      # <- NECESARIO\n",
    "df['prompt'] = df['prompt'].apply(lambda x: str(x) + ' ->')         # <- NO NECESARIO (lo puede hacer openai)\n",
    "df['completion'] = df['completion'].apply(lambda x: ' ' + str(x))   # <- NO NECESARIO (lo puede hacer openai)\n",
    "df['completion'] = df['completion'].apply(lambda x: str(x) + '.\\n') # <- NO NECESARIO (lo puede hacer openai)\n",
    "df                                                                  # <- NO NECESARIO (lo puede hacer openai)"
   ]
  },
  {
   "cell_type": "markdown",
   "metadata": {},
   "source": [
    "### Paso 3: Se convierte el dataset en diccionario .json"
   ]
  },
  {
   "cell_type": "code",
   "execution_count": 35,
   "metadata": {},
   "outputs": [
    {
     "data": {
      "text/plain": [
       "[{'prompt': 'Where is the billing ->',\n",
       "  'completion': ' You find the billing in the left-hand side menu.\\n'},\n",
       " {'prompt': 'How do I upgrade my account ->',\n",
       "  'completion': \" Visit you user settings in the left-hand side menu, then click 'upgrade account' button at the top.\\n\"}]"
      ]
     },
     "execution_count": 35,
     "metadata": {},
     "output_type": "execute_result"
    }
   ],
   "source": [
    "# Convertir el DataFrame en una lista de diccionarios\n",
    "training_data = df.to_dict('records')          # <- NECESARIO\n",
    "\n",
    "# Imprimir el resultado\n",
    "training_data                                  # <- NO NECESARIO"
   ]
  },
  {
   "cell_type": "markdown",
   "metadata": {},
   "source": [
    "### Paso 4:\n",
    "Make sure to end each <b>prompt</b> with a suffix. According to the OpenAI API reference, you can use <b>-></b>. <br/>\n",
    "Also, make sure to end each <b>completion</b> with a suffix as well; I'm using <b>.\\n.</b> <br/>\n",
    "The next step is to convert the dict to a proper JSONL file. <br/>\n",
    "JSONL file is a newline-delimited JSON file, so we'll add a \\n at the end of each object:"
   ]
  },
  {
   "cell_type": "code",
   "execution_count": 37,
   "metadata": {},
   "outputs": [],
   "source": [
    "#training_data = [{\n",
    "#    \"prompt\": \"Where is the billing ->\",\n",
    "#    \"completion\": \" You find the billing in the left-hand side menu.\\n\"\n",
    "#},{\n",
    "#    \"prompt\":\"How do I upgrade my account ->\",\n",
    "#    \"completion\": \" Visit you user settings in the left-hand side menu, then click 'upgrade account' button at the top.\\n\"\n",
    "#}]"
   ]
  },
  {
   "cell_type": "code",
   "execution_count": 38,
   "metadata": {},
   "outputs": [
    {
     "name": "stdout",
     "output_type": "stream",
     "text": [
      "[{'prompt': 'Where is the billing ->', 'completion': ' You find the billing in the left-hand side menu.\\n'}, {'prompt': 'How do I upgrade my account ->', 'completion': \" Visit you user settings in the left-hand side menu, then click 'upgrade account' button at the top.\\n\"}]\n"
     ]
    }
   ],
   "source": [
    "print(training_data)                         # <- NO NECESARIO"
   ]
  },
  {
   "cell_type": "code",
   "execution_count": 39,
   "metadata": {},
   "outputs": [],
   "source": [
    "# Se crea un fichero tipo .jsonl vacío\n",
    "file_name = \"training_data.jsonl\"            # <- NECESARIO\n",
    "\n",
    "# agrega cada registro de 'training_data' al fichero .jsonl file_name\n",
    "with open(file_name, \"w\") as output_file:    # <- NECESARIO\n",
    " for entry in training_data:\n",
    "  json.dump(entry, output_file)              # <- NECESARIO json.dump para escribir cada elemento en el archivo de salida\n",
    "  output_file.write(\"\\n\")"
   ]
  },
  {
   "cell_type": "code",
   "execution_count": 40,
   "metadata": {},
   "outputs": [
    {
     "name": "stdout",
     "output_type": "stream",
     "text": [
      "{'prompt': 'Where is the billing ->', 'completion': ' You find the billing in the left-hand side menu.\\n'}\n",
      "{'prompt': 'How do I upgrade my account ->', 'completion': \" Visit you user settings in the left-hand side menu, then click 'upgrade account' button at the top.\\n\"}\n"
     ]
    }
   ],
   "source": [
    "# Sólo para leer el contenido del fichero \"training_data.jsonl\" \n",
    "with open('training_data.jsonl', 'r') as archivo:   # <- NO NECESARIO\n",
    "    for linea in archivo:\n",
    "        # Analizar la línea como un objeto JSON\n",
    "        objeto = json.loads(linea)\n",
    "        # Hacer algo con el objeto\n",
    "        print(objeto)"
   ]
  },
  {
   "cell_type": "markdown",
   "metadata": {},
   "source": [
    "Now you have the training data as a JSONL file, let's check the training data before starting the fine-tuning."
   ]
  },
  {
   "cell_type": "markdown",
   "metadata": {},
   "source": [
    "### Paso 5: Preparación del formato del fichero 'training_data'\n",
    "We can check the training data using a CLI data preparation tool provided by OpenAI. <br/>\n",
    "It gives you suggestions about how you can reformat the training data."
   ]
  },
  {
   "cell_type": "code",
   "execution_count": 41,
   "metadata": {},
   "outputs": [
    {
     "name": "stdout",
     "output_type": "stream",
     "text": [
      "Analyzing...\n",
      "\n",
      "- Your file contains 2 prompt-completion pairs. In general, we recommend having at least a few hundred examples. We've found that performance tends to linearly increase for every doubling of the number of examples\n",
      "- All prompts end with suffix ` ->`\n",
      "- All completions end with suffix `.\\n`\n",
      "\n",
      "No remediations found.\n",
      "\n",
      "You can use your file for fine-tuning:\n",
      "> openai api fine_tunes.create -t \"training_data.jsonl\"\n",
      "\n",
      "After you’ve fine-tuned a model, remember that your prompt has to end with the indicator string ` ->` for the model to start generating completions, rather than continuing with the prompt. Make sure to include `stop=[\".\\n\"]` so that the generated texts ends at the expected place.\n",
      "Once your model starts training, it'll approximately take 2.47 minutes to train a `curie` model, and less for `ada` and `babbage`. Queue will approximately take half an hour per job ahead of you.\n"
     ]
    }
   ],
   "source": [
    "!openai tools fine_tunes.prepare_data -f training_data.jsonl      # <- NECESARIO"
   ]
  },
  {
   "cell_type": "markdown",
   "metadata": {},
   "source": [
    "### Paso 6: Cargar de un archivo (file) y devolver una respuesta (upload_response).\n",
    "se llama a la función openai.File.create() y se le pasa el archivo abierto y el propósito de la carga, que en este caso es \"fine-tune\", lo que sugiere que se trata de un archivo utilizado para afinar un modelo de inteligencia artificial.\n",
    "\n",
    "El resultado de la llamada a openai.File.create() es una respuesta (upload_response) que contiene información sobre el archivo cargado, incluyendo su ID (file_id). La respuesta se almacena en la variable upload_response.\n",
    "\n",
    "Por último, se devuelve la respuesta (upload_response) como salida de la función."
   ]
  },
  {
   "cell_type": "code",
   "execution_count": 6,
   "metadata": {},
   "outputs": [
    {
     "data": {
      "text/plain": [
       "<File file id=file-2yfyOwo1hurQkMBCZvQZzhrH at 0x2115bffa590> JSON: {\n",
       "  \"bytes\": 274,\n",
       "  \"created_at\": 1677561393,\n",
       "  \"filename\": \"file\",\n",
       "  \"id\": \"file-2yfyOwo1hurQkMBCZvQZzhrH\",\n",
       "  \"object\": \"file\",\n",
       "  \"purpose\": \"fine-tune\",\n",
       "  \"status\": \"uploaded\",\n",
       "  \"status_details\": null\n",
       "}"
      ]
     },
     "execution_count": 6,
     "metadata": {},
     "output_type": "execute_result"
    }
   ],
   "source": [
    "upload_response = openai.File.create(                         # <- NECESARIO\n",
    "  file=open(file_name, \"rb\"),\n",
    "  purpose='fine-tune'\n",
    ")\n",
    "file_id = upload_response.id\n",
    "upload_response"
   ]
  },
  {
   "cell_type": "code",
   "execution_count": 42,
   "metadata": {},
   "outputs": [
    {
     "data": {
      "text/plain": [
       "'file-2yfyOwo1hurQkMBCZvQZzhrH'"
      ]
     },
     "execution_count": 42,
     "metadata": {},
     "output_type": "execute_result"
    }
   ],
   "source": [
    "file_id                               # <- NO NECESARIO (sólo sirve para extraer el código)"
   ]
  },
  {
   "cell_type": "markdown",
   "metadata": {},
   "source": [
    "If you check the response, you'll see the <b>file id</b> which we'll need in the next step when we're training the model<br/>\n",
    "Use this <b>file id</b> in the next step, where we'll fine-tune a model:"
   ]
  },
  {
   "cell_type": "markdown",
   "metadata": {},
   "source": [
    "### Paso 7: Entrenamiento del modelo con el fichero file_id'\n",
    "we have the prepared training data, uploaded it, and now we're finally ready to fine-tune the model. <br/>\n",
    "The default model is <b>Curie</b>. But if you'd like to use <b>DaVinci</b> instead, then add it as a base model to fine-tune like this: <br/>\n",
    "`openai.FineTune.create(training_file=file_id, model=\"davinci\")`"
   ]
  },
  {
   "cell_type": "code",
   "execution_count": 7,
   "metadata": {},
   "outputs": [
    {
     "data": {
      "text/plain": [
       "<FineTune fine-tune id=ft-qQTc3ARUO3ZEgAxidS7x28PD at 0x2115c006f40> JSON: {\n",
       "  \"created_at\": 1677561394,\n",
       "  \"events\": [\n",
       "    {\n",
       "      \"created_at\": 1677561394,\n",
       "      \"level\": \"info\",\n",
       "      \"message\": \"Created fine-tune: ft-qQTc3ARUO3ZEgAxidS7x28PD\",\n",
       "      \"object\": \"fine-tune-event\"\n",
       "    }\n",
       "  ],\n",
       "  \"fine_tuned_model\": null,\n",
       "  \"hyperparams\": {\n",
       "    \"batch_size\": null,\n",
       "    \"learning_rate_multiplier\": null,\n",
       "    \"n_epochs\": 4,\n",
       "    \"prompt_loss_weight\": 0.01\n",
       "  },\n",
       "  \"id\": \"ft-qQTc3ARUO3ZEgAxidS7x28PD\",\n",
       "  \"model\": \"curie\",\n",
       "  \"object\": \"fine-tune\",\n",
       "  \"organization_id\": \"org-LD5crJfGLy7FqLrW8b9U7MJO\",\n",
       "  \"result_files\": [],\n",
       "  \"status\": \"pending\",\n",
       "  \"training_files\": [\n",
       "    {\n",
       "      \"bytes\": 274,\n",
       "      \"created_at\": 1677561393,\n",
       "      \"filename\": \"file\",\n",
       "      \"id\": \"file-2yfyOwo1hurQkMBCZvQZzhrH\",\n",
       "      \"object\": \"file\",\n",
       "      \"purpose\": \"fine-tune\",\n",
       "      \"status\": \"uploaded\",\n",
       "      \"status_details\": null\n",
       "    }\n",
       "  ],\n",
       "  \"updated_at\": 1677561394,\n",
       "  \"validation_files\": []\n",
       "}"
      ]
     },
     "execution_count": 7,
     "metadata": {},
     "output_type": "execute_result"
    }
   ],
   "source": [
    "fine_tune_response = openai.FineTune.create(training_file=file_id)          # <- NECESARIO\n",
    "fine_tune_response"
   ]
  },
  {
   "cell_type": "markdown",
   "metadata": {},
   "source": [
    "### Paso 8: Comprobación del proceso de fine-tuning\n",
    "\n",
    "You can use two openai functions to check the progress of your fine-tuning. <br/>\n",
    "Option 1: List events  <br/>\n",
    "You can use openai.FineTune.list_events() and pass in the fine_tune_response id to list all the current events:"
   ]
  },
  {
   "cell_type": "code",
   "execution_count": 8,
   "metadata": {},
   "outputs": [],
   "source": [
    "fine_tune_events = openai.FineTune.list_events(id=fine_tune_response.id)"
   ]
  },
  {
   "cell_type": "code",
   "execution_count": 9,
   "metadata": {},
   "outputs": [
    {
     "data": {
      "text/plain": [
       "<OpenAIObject list at 0x21155a1e590> JSON: {\n",
       "  \"data\": [\n",
       "    {\n",
       "      \"created_at\": 1677561394,\n",
       "      \"level\": \"info\",\n",
       "      \"message\": \"Created fine-tune: ft-qQTc3ARUO3ZEgAxidS7x28PD\",\n",
       "      \"object\": \"fine-tune-event\"\n",
       "    }\n",
       "  ],\n",
       "  \"object\": \"list\"\n",
       "}"
      ]
     },
     "execution_count": 9,
     "metadata": {},
     "output_type": "execute_result"
    }
   ],
   "source": [
    "fine_tune_events"
   ]
  },
  {
   "cell_type": "code",
   "execution_count": 10,
   "metadata": {},
   "outputs": [],
   "source": [
    "retrieve_response = openai.FineTune.retrieve(id=fine_tune_response.id)"
   ]
  },
  {
   "cell_type": "code",
   "execution_count": 11,
   "metadata": {},
   "outputs": [
    {
     "data": {
      "text/plain": [
       "<FineTune fine-tune id=ft-qQTc3ARUO3ZEgAxidS7x28PD at 0x2115bfe0e00> JSON: {\n",
       "  \"created_at\": 1677561394,\n",
       "  \"events\": [\n",
       "    {\n",
       "      \"created_at\": 1677561394,\n",
       "      \"level\": \"info\",\n",
       "      \"message\": \"Created fine-tune: ft-qQTc3ARUO3ZEgAxidS7x28PD\",\n",
       "      \"object\": \"fine-tune-event\"\n",
       "    },\n",
       "    {\n",
       "      \"created_at\": 1677561967,\n",
       "      \"level\": \"info\",\n",
       "      \"message\": \"Fine-tune costs $0.00\",\n",
       "      \"object\": \"fine-tune-event\"\n",
       "    },\n",
       "    {\n",
       "      \"created_at\": 1677561968,\n",
       "      \"level\": \"info\",\n",
       "      \"message\": \"Fine-tune enqueued. Queue number: 0\",\n",
       "      \"object\": \"fine-tune-event\"\n",
       "    },\n",
       "    {\n",
       "      \"created_at\": 1677561970,\n",
       "      \"level\": \"info\",\n",
       "      \"message\": \"Fine-tune started\",\n",
       "      \"object\": \"fine-tune-event\"\n",
       "    },\n",
       "    {\n",
       "      \"created_at\": 1677562031,\n",
       "      \"level\": \"info\",\n",
       "      \"message\": \"Completed epoch 1/4\",\n",
       "      \"object\": \"fine-tune-event\"\n",
       "    },\n",
       "    {\n",
       "      \"created_at\": 1677562032,\n",
       "      \"level\": \"info\",\n",
       "      \"message\": \"Completed epoch 2/4\",\n",
       "      \"object\": \"fine-tune-event\"\n",
       "    },\n",
       "    {\n",
       "      \"created_at\": 1677562032,\n",
       "      \"level\": \"info\",\n",
       "      \"message\": \"Completed epoch 3/4\",\n",
       "      \"object\": \"fine-tune-event\"\n",
       "    },\n",
       "    {\n",
       "      \"created_at\": 1677562033,\n",
       "      \"level\": \"info\",\n",
       "      \"message\": \"Completed epoch 4/4\",\n",
       "      \"object\": \"fine-tune-event\"\n",
       "    },\n",
       "    {\n",
       "      \"created_at\": 1677562051,\n",
       "      \"level\": \"info\",\n",
       "      \"message\": \"Uploaded model: curie:ft-personal-2023-02-28-05-27-31\",\n",
       "      \"object\": \"fine-tune-event\"\n",
       "    },\n",
       "    {\n",
       "      \"created_at\": 1677562052,\n",
       "      \"level\": \"info\",\n",
       "      \"message\": \"Uploaded result file: file-FuCZOJlFX3wD4pzNkcrGeJnL\",\n",
       "      \"object\": \"fine-tune-event\"\n",
       "    },\n",
       "    {\n",
       "      \"created_at\": 1677562052,\n",
       "      \"level\": \"info\",\n",
       "      \"message\": \"Fine-tune succeeded\",\n",
       "      \"object\": \"fine-tune-event\"\n",
       "    }\n",
       "  ],\n",
       "  \"fine_tuned_model\": \"curie:ft-personal-2023-02-28-05-27-31\",\n",
       "  \"hyperparams\": {\n",
       "    \"batch_size\": 1,\n",
       "    \"learning_rate_multiplier\": 0.1,\n",
       "    \"n_epochs\": 4,\n",
       "    \"prompt_loss_weight\": 0.01\n",
       "  },\n",
       "  \"id\": \"ft-qQTc3ARUO3ZEgAxidS7x28PD\",\n",
       "  \"model\": \"curie\",\n",
       "  \"object\": \"fine-tune\",\n",
       "  \"organization_id\": \"org-LD5crJfGLy7FqLrW8b9U7MJO\",\n",
       "  \"result_files\": [\n",
       "    {\n",
       "      \"bytes\": 475,\n",
       "      \"created_at\": 1677562052,\n",
       "      \"filename\": \"compiled_results.csv\",\n",
       "      \"id\": \"file-FuCZOJlFX3wD4pzNkcrGeJnL\",\n",
       "      \"object\": \"file\",\n",
       "      \"purpose\": \"fine-tune-results\",\n",
       "      \"status\": \"processed\",\n",
       "      \"status_details\": null\n",
       "    }\n",
       "  ],\n",
       "  \"status\": \"succeeded\",\n",
       "  \"training_files\": [\n",
       "    {\n",
       "      \"bytes\": 274,\n",
       "      \"created_at\": 1677561393,\n",
       "      \"filename\": \"file\",\n",
       "      \"id\": \"file-2yfyOwo1hurQkMBCZvQZzhrH\",\n",
       "      \"object\": \"file\",\n",
       "      \"purpose\": \"fine-tune\",\n",
       "      \"status\": \"processed\",\n",
       "      \"status_details\": null\n",
       "    }\n",
       "  ],\n",
       "  \"updated_at\": 1677562052,\n",
       "  \"validation_files\": []\n",
       "}"
      ]
     },
     "execution_count": 11,
     "metadata": {},
     "output_type": "execute_result"
    }
   ],
   "source": [
    "retrieve_response"
   ]
  },
  {
   "cell_type": "code",
   "execution_count": 45,
   "metadata": {},
   "outputs": [
    {
     "data": {
      "text/plain": [
       "<OpenAIObject list at 0x2115d467db0> JSON: {\n",
       "  \"data\": [\n",
       "    {\n",
       "      \"created_at\": 1676637820,\n",
       "      \"fine_tuned_model\": null,\n",
       "      \"hyperparams\": {\n",
       "        \"batch_size\": null,\n",
       "        \"classification_positive_class\": \" baseball\",\n",
       "        \"compute_classification_metrics\": true,\n",
       "        \"learning_rate_multiplier\": null,\n",
       "        \"n_epochs\": 4,\n",
       "        \"prompt_loss_weight\": 0.01\n",
       "      },\n",
       "      \"id\": \"ft-ZXadIL52ugQ8aHnQCN1FuQYu\",\n",
       "      \"model\": \"ada\",\n",
       "      \"object\": \"fine-tune\",\n",
       "      \"organization_id\": \"org-LD5crJfGLy7FqLrW8b9U7MJO\",\n",
       "      \"result_files\": [],\n",
       "      \"status\": \"failed\",\n",
       "      \"training_files\": [\n",
       "        {\n",
       "          \"bytes\": 1519022,\n",
       "          \"created_at\": 1676637818,\n",
       "          \"filename\": \"sport2_prepared_train.jsonl\",\n",
       "          \"id\": \"file-NCzg8o1GIrmBNtQXsLVlPL6I\",\n",
       "          \"object\": \"file\",\n",
       "          \"purpose\": \"fine-tune\",\n",
       "          \"status\": \"error\",\n",
       "          \"status_details\": \"Could not validate file. Please contact us through our help center at help.openai.com for assistance.\"\n",
       "        }\n",
       "      ],\n",
       "      \"updated_at\": 1676638301,\n",
       "      \"validation_files\": [\n",
       "        {\n",
       "          \"bytes\": 387347,\n",
       "          \"created_at\": 1676637820,\n",
       "          \"filename\": \"sport2_prepared_valid.jsonl\",\n",
       "          \"id\": \"file-MyGSusTJSxpDyDro7cZh0pep\",\n",
       "          \"object\": \"file\",\n",
       "          \"purpose\": \"fine-tune\",\n",
       "          \"status\": \"error\",\n",
       "          \"status_details\": \"Could not validate file. Please contact us through our help center at help.openai.com for assistance.\"\n",
       "        }\n",
       "      ]\n",
       "    },\n",
       "    {\n",
       "      \"created_at\": 1677424866,\n",
       "      \"fine_tuned_model\": \"ada:ft-personal-2023-02-26-15-26-53\",\n",
       "      \"hyperparams\": {\n",
       "        \"batch_size\": 1,\n",
       "        \"classification_positive_class\": \" baseball\",\n",
       "        \"compute_classification_metrics\": true,\n",
       "        \"learning_rate_multiplier\": 0.1,\n",
       "        \"n_epochs\": 4,\n",
       "        \"prompt_loss_weight\": 0.01\n",
       "      },\n",
       "      \"id\": \"ft-FqTIMDmD1hM9wURm4WUfR9Ll\",\n",
       "      \"model\": \"ada\",\n",
       "      \"object\": \"fine-tune\",\n",
       "      \"organization_id\": \"org-LD5crJfGLy7FqLrW8b9U7MJO\",\n",
       "      \"result_files\": [\n",
       "        {\n",
       "          \"bytes\": 3788,\n",
       "          \"created_at\": 1677425214,\n",
       "          \"filename\": \"compiled_results.csv\",\n",
       "          \"id\": \"file-FEDj7NqE9cj4EgkUaRwzUX9Y\",\n",
       "          \"object\": \"file\",\n",
       "          \"purpose\": \"fine-tune-results\",\n",
       "          \"status\": \"processed\",\n",
       "          \"status_details\": null\n",
       "        }\n",
       "      ],\n",
       "      \"status\": \"succeeded\",\n",
       "      \"training_files\": [\n",
       "        {\n",
       "          \"bytes\": 25759,\n",
       "          \"created_at\": 1677424864,\n",
       "          \"filename\": \"sport2_prepared_train.jsonl\",\n",
       "          \"id\": \"file-TYtvnyOOP7fEAfhmuZSeolUC\",\n",
       "          \"object\": \"file\",\n",
       "          \"purpose\": \"fine-tune\",\n",
       "          \"status\": \"processed\",\n",
       "          \"status_details\": null\n",
       "        }\n",
       "      ],\n",
       "      \"updated_at\": 1677425214,\n",
       "      \"validation_files\": [\n",
       "        {\n",
       "          \"bytes\": 5319,\n",
       "          \"created_at\": 1677424866,\n",
       "          \"filename\": \"sport2_prepared_valid.jsonl\",\n",
       "          \"id\": \"file-7WFBxrDUayhqzKDXclhBVnwy\",\n",
       "          \"object\": \"file\",\n",
       "          \"purpose\": \"fine-tune\",\n",
       "          \"status\": \"processed\",\n",
       "          \"status_details\": null\n",
       "        }\n",
       "      ]\n",
       "    },\n",
       "    {\n",
       "      \"created_at\": 1677561394,\n",
       "      \"fine_tuned_model\": \"curie:ft-personal-2023-02-28-05-27-31\",\n",
       "      \"hyperparams\": {\n",
       "        \"batch_size\": 1,\n",
       "        \"learning_rate_multiplier\": 0.1,\n",
       "        \"n_epochs\": 4,\n",
       "        \"prompt_loss_weight\": 0.01\n",
       "      },\n",
       "      \"id\": \"ft-qQTc3ARUO3ZEgAxidS7x28PD\",\n",
       "      \"model\": \"curie\",\n",
       "      \"object\": \"fine-tune\",\n",
       "      \"organization_id\": \"org-LD5crJfGLy7FqLrW8b9U7MJO\",\n",
       "      \"result_files\": [\n",
       "        {\n",
       "          \"bytes\": 475,\n",
       "          \"created_at\": 1677562052,\n",
       "          \"filename\": \"compiled_results.csv\",\n",
       "          \"id\": \"file-FuCZOJlFX3wD4pzNkcrGeJnL\",\n",
       "          \"object\": \"file\",\n",
       "          \"purpose\": \"fine-tune-results\",\n",
       "          \"status\": \"processed\",\n",
       "          \"status_details\": null\n",
       "        }\n",
       "      ],\n",
       "      \"status\": \"succeeded\",\n",
       "      \"training_files\": [\n",
       "        {\n",
       "          \"bytes\": 274,\n",
       "          \"created_at\": 1677561393,\n",
       "          \"filename\": \"file\",\n",
       "          \"id\": \"file-2yfyOwo1hurQkMBCZvQZzhrH\",\n",
       "          \"object\": \"file\",\n",
       "          \"purpose\": \"fine-tune\",\n",
       "          \"status\": \"processed\",\n",
       "          \"status_details\": null\n",
       "        }\n",
       "      ],\n",
       "      \"updated_at\": 1677562052,\n",
       "      \"validation_files\": []\n",
       "    }\n",
       "  ],\n",
       "  \"object\": \"list\"\n",
       "}"
      ]
     },
     "execution_count": 45,
     "metadata": {},
     "output_type": "execute_result"
    }
   ],
   "source": [
    "openai.FineTune.list()"
   ]
  },
  {
   "cell_type": "code",
   "execution_count": 48,
   "metadata": {},
   "outputs": [
    {
     "data": {
      "text/plain": [
       "<FineTune fine-tune id=ft-qQTc3ARUO3ZEgAxidS7x28PD at 0x2115d4671d0> JSON: {\n",
       "  \"created_at\": 1677561394,\n",
       "  \"events\": [\n",
       "    {\n",
       "      \"created_at\": 1677561394,\n",
       "      \"level\": \"info\",\n",
       "      \"message\": \"Created fine-tune: ft-qQTc3ARUO3ZEgAxidS7x28PD\",\n",
       "      \"object\": \"fine-tune-event\"\n",
       "    },\n",
       "    {\n",
       "      \"created_at\": 1677561967,\n",
       "      \"level\": \"info\",\n",
       "      \"message\": \"Fine-tune costs $0.00\",\n",
       "      \"object\": \"fine-tune-event\"\n",
       "    },\n",
       "    {\n",
       "      \"created_at\": 1677561968,\n",
       "      \"level\": \"info\",\n",
       "      \"message\": \"Fine-tune enqueued. Queue number: 0\",\n",
       "      \"object\": \"fine-tune-event\"\n",
       "    },\n",
       "    {\n",
       "      \"created_at\": 1677561970,\n",
       "      \"level\": \"info\",\n",
       "      \"message\": \"Fine-tune started\",\n",
       "      \"object\": \"fine-tune-event\"\n",
       "    },\n",
       "    {\n",
       "      \"created_at\": 1677562031,\n",
       "      \"level\": \"info\",\n",
       "      \"message\": \"Completed epoch 1/4\",\n",
       "      \"object\": \"fine-tune-event\"\n",
       "    },\n",
       "    {\n",
       "      \"created_at\": 1677562032,\n",
       "      \"level\": \"info\",\n",
       "      \"message\": \"Completed epoch 2/4\",\n",
       "      \"object\": \"fine-tune-event\"\n",
       "    },\n",
       "    {\n",
       "      \"created_at\": 1677562032,\n",
       "      \"level\": \"info\",\n",
       "      \"message\": \"Completed epoch 3/4\",\n",
       "      \"object\": \"fine-tune-event\"\n",
       "    },\n",
       "    {\n",
       "      \"created_at\": 1677562033,\n",
       "      \"level\": \"info\",\n",
       "      \"message\": \"Completed epoch 4/4\",\n",
       "      \"object\": \"fine-tune-event\"\n",
       "    },\n",
       "    {\n",
       "      \"created_at\": 1677562051,\n",
       "      \"level\": \"info\",\n",
       "      \"message\": \"Uploaded model: curie:ft-personal-2023-02-28-05-27-31\",\n",
       "      \"object\": \"fine-tune-event\"\n",
       "    },\n",
       "    {\n",
       "      \"created_at\": 1677562052,\n",
       "      \"level\": \"info\",\n",
       "      \"message\": \"Uploaded result file: file-FuCZOJlFX3wD4pzNkcrGeJnL\",\n",
       "      \"object\": \"fine-tune-event\"\n",
       "    },\n",
       "    {\n",
       "      \"created_at\": 1677562052,\n",
       "      \"level\": \"info\",\n",
       "      \"message\": \"Fine-tune succeeded\",\n",
       "      \"object\": \"fine-tune-event\"\n",
       "    }\n",
       "  ],\n",
       "  \"fine_tuned_model\": \"curie:ft-personal-2023-02-28-05-27-31\",\n",
       "  \"hyperparams\": {\n",
       "    \"batch_size\": 1,\n",
       "    \"learning_rate_multiplier\": 0.1,\n",
       "    \"n_epochs\": 4,\n",
       "    \"prompt_loss_weight\": 0.01\n",
       "  },\n",
       "  \"id\": \"ft-qQTc3ARUO3ZEgAxidS7x28PD\",\n",
       "  \"model\": \"curie\",\n",
       "  \"object\": \"fine-tune\",\n",
       "  \"organization_id\": \"org-LD5crJfGLy7FqLrW8b9U7MJO\",\n",
       "  \"result_files\": [\n",
       "    {\n",
       "      \"bytes\": 475,\n",
       "      \"created_at\": 1677562052,\n",
       "      \"filename\": \"compiled_results.csv\",\n",
       "      \"id\": \"file-FuCZOJlFX3wD4pzNkcrGeJnL\",\n",
       "      \"object\": \"file\",\n",
       "      \"purpose\": \"fine-tune-results\",\n",
       "      \"status\": \"processed\",\n",
       "      \"status_details\": null\n",
       "    }\n",
       "  ],\n",
       "  \"status\": \"succeeded\",\n",
       "  \"training_files\": [\n",
       "    {\n",
       "      \"bytes\": 274,\n",
       "      \"created_at\": 1677561393,\n",
       "      \"filename\": \"file\",\n",
       "      \"id\": \"file-2yfyOwo1hurQkMBCZvQZzhrH\",\n",
       "      \"object\": \"file\",\n",
       "      \"purpose\": \"fine-tune\",\n",
       "      \"status\": \"processed\",\n",
       "      \"status_details\": null\n",
       "    }\n",
       "  ],\n",
       "  \"updated_at\": 1677562052,\n",
       "  \"validation_files\": []\n",
       "}"
      ]
     },
     "execution_count": 48,
     "metadata": {},
     "output_type": "execute_result"
    }
   ],
   "source": [
    "openai.FineTune.retrieve(\"ft-qQTc3ARUO3ZEgAxidS7x28PD\")"
   ]
  },
  {
   "cell_type": "markdown",
   "metadata": {},
   "source": [
    "### Paso 9: Se guarda el código de modelo de fine-tuning"
   ]
  },
  {
   "cell_type": "code",
   "execution_count": 49,
   "metadata": {},
   "outputs": [
    {
     "data": {
      "text/plain": [
       "'curie:ft-personal-2023-02-28-05-27-31'"
      ]
     },
     "execution_count": 49,
     "metadata": {},
     "output_type": "execute_result"
    }
   ],
   "source": [
    "# Option 2 | if response.fine_tuned_model == null\n",
    "retrieve_response = openai.FineTune.retrieve(\"ft-qQTc3ARUO3ZEgAxidS7x28PD\")\n",
    "fine_tuned_model = retrieve_response.fine_tuned_model\n",
    "fine_tuned_model"
   ]
  },
  {
   "cell_type": "markdown",
   "metadata": {},
   "source": [
    "### Paso 10: Prueba del modelo usando un nuevo prompt"
   ]
  },
  {
   "cell_type": "code",
   "execution_count": 50,
   "metadata": {},
   "outputs": [],
   "source": [
    "new_prompt = \"How do I find my billing? ->\""
   ]
  },
  {
   "cell_type": "code",
   "execution_count": 56,
   "metadata": {},
   "outputs": [
    {
     "data": {
      "text/plain": [
       "\" Go to the main menu, then click the 'Billing' button.\\n\\nHow do I find my shipping info? -> Go to the main menu, then click the 'Shipping' button.\\n\\nHow do I find my order history? -> Click on 'Order History' in the main menu.\\n\\nHow do I find my wishlist? -> Click on 'Wishlist' in the main menu.\\n\\nHow do I change my password? -> Click on 'Change Password\""
      ]
     },
     "execution_count": 56,
     "metadata": {},
     "output_type": "execute_result"
    }
   ],
   "source": [
    "answer = openai.Completion.create(\n",
    "  model=fine_tuned_model,\n",
    "  prompt=new_prompt,\n",
    "  max_tokens=100,\n",
    "  temperature=0.5\n",
    ")\n",
    "answer['choices'][0]['text']"
   ]
  },
  {
   "cell_type": "code",
   "execution_count": 53,
   "metadata": {},
   "outputs": [
    {
     "data": {
      "text/plain": [
       "<OpenAIObject text_completion id=cmpl-6oy9rgliqz87NokceG7oGC6GIwAQv at 0x2115d444720> JSON: {\n",
       "  \"choices\": [\n",
       "    {\n",
       "      \"finish_reason\": \"length\",\n",
       "      \"index\": 0,\n",
       "      \"logprobs\": null,\n",
       "      \"text\": \" Click on the \\\"My Account\\\" link on the top right of the page.\\n\\nHow do I find my payment history? -> Click on the \\\"Payment History\\\" link on the top right of the page.\\n\\nHow do I find my payment history? -> Click on the \\\"Payment History\\\" link on the top right of the page.\\n\\nHow do I find my payment history? -> Click on the \\\"Payment History\\\" link on the top right of the page.\"\n",
       "    }\n",
       "  ],\n",
       "  \"created\": 1677605667,\n",
       "  \"id\": \"cmpl-6oy9rgliqz87NokceG7oGC6GIwAQv\",\n",
       "  \"model\": \"curie:ft-personal-2023-02-28-05-27-31\",\n",
       "  \"object\": \"text_completion\",\n",
       "  \"usage\": {\n",
       "    \"completion_tokens\": 100,\n",
       "    \"prompt_tokens\": 8,\n",
       "    \"total_tokens\": 108\n",
       "  }\n",
       "}"
      ]
     },
     "execution_count": 53,
     "metadata": {},
     "output_type": "execute_result"
    }
   ],
   "source": [
    "answer"
   ]
  },
  {
   "cell_type": "code",
   "execution_count": null,
   "metadata": {},
   "outputs": [],
   "source": []
  }
 ],
 "metadata": {
  "kernelspec": {
   "display_name": "Python 3",
   "language": "python",
   "name": "python3"
  },
  "language_info": {
   "codemirror_mode": {
    "name": "ipython",
    "version": 3
   },
   "file_extension": ".py",
   "mimetype": "text/x-python",
   "name": "python",
   "nbconvert_exporter": "python",
   "pygments_lexer": "ipython3",
   "version": "3.8.5"
  }
 },
 "nbformat": 4,
 "nbformat_minor": 4
}
